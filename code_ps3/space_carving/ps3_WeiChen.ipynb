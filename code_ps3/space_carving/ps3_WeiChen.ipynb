{
 "cells": [
  {
   "cell_type": "code",
   "execution_count": 1,
   "metadata": {},
   "outputs": [],
   "source": [
    "import numpy as np\n",
    "import scipy.io as sio\n",
    "import argparse\n",
    "from camera import Camera\n",
    "from plotting import *\n",
    "\n",
    "\n",
    "# A very simple, but useful method to take the difference between the\n",
    "# first and second element (usually for 2D vectors)\n",
    "def diff(x):\n",
    "    return x[1] - x[0]"
   ]
  },
  {
   "cell_type": "code",
   "execution_count": null,
   "metadata": {},
   "outputs": [],
   "source": []
  },
  {
   "cell_type": "code",
   "execution_count": 2,
   "metadata": {},
   "outputs": [],
   "source": [
    "'''\n",
    "FORM_INITIAL_VOXELS  create a basic grid of voxels ready for carving\n",
    "\n",
    "Arguments:\n",
    "    xlim - The limits of the x dimension given as [xmin xmax]\n",
    "\n",
    "    ylim - The limits of the y dimension given as [ymin ymax]\n",
    "\n",
    "    zlim - The limits of the z dimension given as [zmin zmax]\n",
    "\n",
    "    num_voxels - The approximate number of voxels we desire in our grid\n",
    "\n",
    "Returns:\n",
    "    voxels - An ndarray of size (N, 3) where N is approximately equal the \n",
    "        num_voxels of voxel locations.\n",
    "\n",
    "    voxel_size - The distance between the locations of adjacent voxels\n",
    "        (a voxel is a cube)\n",
    "\n",
    "Our initial voxels will create a rectangular prism defined by the x,y,z\n",
    "limits. Each voxel will be a cube, so you'll have to compute the\n",
    "approximate side-length (voxel_size) of these cubes, as well as how many\n",
    "cubes you need to place in each dimension to get around the desired\n",
    "number of voxel. This can be accomplished by first finding the total volume of\n",
    "the voxel grid and dividing by the number of desired voxels. This will give an\n",
    "approximate volume for each cubic voxel, which you can then use to find the \n",
    "side-length. The final \"voxels\" output should be a ndarray where every row is\n",
    "the location of a voxel in 3D space.\n",
    "'''\n",
    "def form_initial_voxels(xlim, ylim, zlim, num_voxels):\n",
    "    # TODO: Implement this method!\n",
    "    raise Exception('Not Implemented Error')\n"
   ]
  },
  {
   "cell_type": "code",
   "execution_count": 4,
   "metadata": {},
   "outputs": [],
   "source": [
    "def form_initial_voxels(xlim, ylim, zlim, num_voxels):\n",
    "    xmin, xmax, xsize = xlim[0], xlim[1], xlim[1]- xlim[0]\n",
    "    ymin, ymax, ysize = ylim[0], ylim[1], ylim[1]- ylim[0]\n",
    "    zmin, zmax, zsize = zlim[0], zlim[1], zlim[1]- zlim[0]\n",
    "    grid_vol = xsize*ysize*zsize\n",
    "    voxel_vol = grid_vol/float(num_voxels)\n",
    "    voxel_size = np.power(voxel_vol, 1/3.)\n",
    "    voxels = np.zeros((num_voxels,3))\n",
    "    for i in range(num_voxels):\n",
    "        z = i%(xsize*ysize)\n",
    "        i = i/(xsize*ysize)\n",
    "        y = i%ysize\n",
    "        x = i/ysize\n",
    "        voxels[i, :] = np.array([xmin+x*voxel_size, ymin+y*voxel_size, zmin+z*voxel_size])\n",
    "    return voxels, voxel_size"
   ]
  },
  {
   "cell_type": "code",
   "execution_count": 5,
   "metadata": {},
   "outputs": [
    {
     "ename": "NameError",
     "evalue": "name 'get_voxel_bounds' is not defined",
     "output_type": "error",
     "traceback": [
      "\u001b[0;31m---------------------------------------------------------------------------\u001b[0m",
      "\u001b[0;31mNameError\u001b[0m                                 Traceback (most recent call last)",
      "\u001b[0;32m<ipython-input-5-b2e16b7a779c>\u001b[0m in \u001b[0;36m<module>\u001b[0;34m()\u001b[0m\n\u001b[1;32m     24\u001b[0m     \u001b[0;31m# make sure you use the full amount for your final solution\u001b[0m\u001b[0;34m\u001b[0m\u001b[0;34m\u001b[0m\u001b[0m\n\u001b[1;32m     25\u001b[0m     \u001b[0mnum_voxels\u001b[0m \u001b[0;34m=\u001b[0m \u001b[0;36m6e6\u001b[0m\u001b[0;34m\u001b[0m\u001b[0m\n\u001b[0;32m---> 26\u001b[0;31m     \u001b[0mxlim\u001b[0m\u001b[0;34m,\u001b[0m \u001b[0mylim\u001b[0m\u001b[0;34m,\u001b[0m \u001b[0mzlim\u001b[0m \u001b[0;34m=\u001b[0m \u001b[0mget_voxel_bounds\u001b[0m\u001b[0;34m(\u001b[0m\u001b[0mcameras\u001b[0m\u001b[0;34m,\u001b[0m \u001b[0mestimate_better_bounds\u001b[0m\u001b[0;34m)\u001b[0m\u001b[0;34m\u001b[0m\u001b[0m\n\u001b[0m\u001b[1;32m     27\u001b[0m \u001b[0;34m\u001b[0m\u001b[0m\n\u001b[1;32m     28\u001b[0m     \u001b[0;31m# This part is simply to test forming the initial voxel grid\u001b[0m\u001b[0;34m\u001b[0m\u001b[0;34m\u001b[0m\u001b[0m\n",
      "\u001b[0;31mNameError\u001b[0m: name 'get_voxel_bounds' is not defined"
     ]
    }
   ],
   "source": [
    "if __name__ == '__main__':\n",
    "    estimate_better_bounds = False\n",
    "    use_true_silhouette = True\n",
    "    frames = sio.loadmat('frames.mat')['frames'][0]\n",
    "    cameras = [Camera(x) for x in frames]\n",
    "\n",
    "    # Generate the silhouettes based on a color heuristic\n",
    "    if not use_true_silhouette:\n",
    "        for i, c in enumerate(cameras):\n",
    "            c.true_silhouette = c.silhouette\n",
    "            c.silhouette = estimate_silhouette(c.image)\n",
    "            if i == 0:\n",
    "                plt.figure()\n",
    "                plt.subplot(121)\n",
    "                plt.imshow(c.true_silhouette, cmap = 'gray')\n",
    "                plt.title('True Silhouette')\n",
    "                plt.subplot(122)\n",
    "                plt.imshow(c.silhouette, cmap = 'gray')\n",
    "                plt.title('Estimated Silhouette')\n",
    "                plt.show()\n",
    "\n",
    "    # Generate the voxel grid\n",
    "    # You can reduce the number of voxels for faster debugging, but\n",
    "    # make sure you use the full amount for your final solution\n",
    "    num_voxels = 6e6\n",
    "    xlim, ylim, zlim = get_voxel_bounds(cameras, estimate_better_bounds)\n",
    "\n",
    "    # This part is simply to test forming the initial voxel grid\n",
    "    voxels, voxel_size = form_initial_voxels(xlim, ylim, zlim, 4000)\n",
    "    plot_surface(voxels)\n",
    "    voxels, voxel_size = form_initial_voxels(xlim, ylim, zlim, num_voxels)\n",
    "\n",
    "    # Test the initial carving\n",
    "    voxels = carve(voxels, cameras[0])\n",
    "    if use_true_silhouette:\n",
    "        plot_surface(voxels)\n",
    "\n",
    "    # Result after all carvings\n",
    "    for c in cameras:\n",
    "        voxels = carve(voxels, c)\n",
    "    plot_surface(voxels, voxel_size)"
   ]
  },
  {
   "cell_type": "code",
   "execution_count": null,
   "metadata": {},
   "outputs": [],
   "source": []
  }
 ],
 "metadata": {
  "kernelspec": {
   "display_name": "Python 2",
   "language": "python",
   "name": "python2"
  },
  "language_info": {
   "codemirror_mode": {
    "name": "ipython",
    "version": 2
   },
   "file_extension": ".py",
   "mimetype": "text/x-python",
   "name": "python",
   "nbconvert_exporter": "python",
   "pygments_lexer": "ipython2",
   "version": "2.7.14"
  }
 },
 "nbformat": 4,
 "nbformat_minor": 2
}
