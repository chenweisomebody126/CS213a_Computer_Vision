{
 "cells": [
  {
   "cell_type": "code",
   "execution_count": 1,
   "metadata": {
    "collapsed": true
   },
   "outputs": [],
   "source": [
    "import numpy as np\n",
    "real_XY = np.load('real_XY.npy')\n",
    "front_image = np.load('front_image.npy')\n",
    "back_image = np.load('back_image.npy')"
   ]
  },
  {
   "cell_type": "code",
   "execution_count": 42,
   "metadata": {},
   "outputs": [
    {
     "data": {
      "text/plain": [
       "12"
      ]
     },
     "execution_count": 42,
     "metadata": {},
     "output_type": "execute_result"
    }
   ],
   "source": [
    "real_XY.shape[0]"
   ]
  },
  {
   "cell_type": "code",
   "execution_count": 34,
   "metadata": {},
   "outputs": [],
   "source": [
    "calculated_p_prime = np.dot(P,camera_matrix)\n",
    "calculated_p_prime\n",
    "n = calculated_p_prime.shape[0]\n",
    "rmse = np.linalg.norm(calculated_p_prime - p_prime) / np.sqrt(n)"
   ]
  },
  {
   "cell_type": "code",
   "execution_count": 20,
   "metadata": {
    "scrolled": true
   },
   "outputs": [
    {
     "name": "stdout",
     "output_type": "stream",
     "text": [
      "[[  5.31276507e-01   4.84975447e-02]\n",
      " [ -1.80886074e-02   5.36366401e-01]\n",
      " [  1.20509667e-01  -1.02675222e-01]\n",
      " [  1.29720641e+02   4.43879607e+01]]\n"
     ]
    }
   ],
   "source": [
    "    P_front = np.hstack((real_XY, np.full((real_XY.shape[0], 1), 0), np.ones((real_XY.shape[0], 1))))\n",
    "    P_back = np.hstack((real_XY, np.full((real_XY.shape[0], 1), 150), np.ones((real_XY.shape[0], 1))))\n",
    "    P = np.vstack((P_front, P_back))\n",
    "    p_prime = np.vstack((front_image, back_image))\n",
    "    #p_prime = P M\n",
    "    M = np.linalg.lstsq(P, p_prime)[0]\n",
    "    print(M)"
   ]
  },
  {
   "cell_type": "code",
   "execution_count": 29,
   "metadata": {},
   "outputs": [],
   "source": [
    "'''\n",
    "COMPUTE_CAMERA_MATRIX\n",
    "Arguments:\n",
    "     real_XY - Each row corresponds to an actual point on the 2D plane\n",
    "     front_image - Each row is the pixel location in the front image where Z=0\n",
    "     back_image - Each row is the pixel location in the back image where Z=150\n",
    "Returns:\n",
    "    camera_matrix - The calibrated camera matrix (3x4 matrix)\n",
    "'''\n",
    "def compute_camera_matrix(real_XY, front_image, back_image):\n",
    "    P_front = np.hstack((real_XY, np.full((real_XY.shape[0], 1), 0), np.ones((real_XY.shape[0], 1))))\n",
    "    P_back = np.hstack((real_XY, np.full((real_XY.shape[0], 1), 150), np.ones((real_XY.shape[0], 1))))\n",
    "    P = np.vstack((P_front, P_back))\n",
    "    p_prime = np.vstack((front_image, back_image))\n",
    "    #p_prime = P M\n",
    "    M = np.linalg.lstsq(P, p_prime)[0]\n",
    "    return M"
   ]
  },
  {
   "cell_type": "code",
   "execution_count": 30,
   "metadata": {},
   "outputs": [
    {
     "name": "stdout",
     "output_type": "stream",
     "text": [
      "Camera Matrix:\n",
      " [[  5.31276507e-01   4.84975447e-02]\n",
      " [ -1.80886074e-02   5.36366401e-01]\n",
      " [  1.20509667e-01  -1.02675222e-01]\n",
      " [  1.29720641e+02   4.43879607e+01]]\n"
     ]
    }
   ],
   "source": [
    "camera_matrix = compute_camera_matrix(real_XY, front_image, back_image)\n",
    "print(\"Camera Matrix:\\n\", camera_matrix)\n",
    "#0.06? 129?"
   ]
  },
  {
   "cell_type": "code",
   "execution_count": 39,
   "metadata": {
    "collapsed": true
   },
   "outputs": [],
   "source": [
    "'''\n",
    "RMS_ERROR\n",
    "Arguments:\n",
    "     camera_matrix - The camera matrix of the calibrated camera\n",
    "     real_XY - Each row corresponds to an actual point on the 2D plane\n",
    "     front_image - Each row is the pixel location in the front image where Z=0\n",
    "     back_image - Each row is the pixel location in the back image where Z=150\n",
    "Returns:\n",
    "    rms_error - The root mean square error of reprojecting the points back\n",
    "                into the images\n",
    "'''\n",
    "def rms_error(camera_matrix, real_XY, front_image, back_image):\n",
    "    P_front = np.hstack((real_XY, np.full((real_XY.shape[0], 1), 0), np.ones((real_XY.shape[0], 1))))\n",
    "    P_back = np.hstack((real_XY, np.full((real_XY.shape[0], 1), 150), np.ones((real_XY.shape[0], 1))))\n",
    "    P = np.vstack((P_front, P_back))\n",
    "    p_prime = np.vstack((front_image, back_image))\n",
    "    #p_prime = P M\n",
    "    calculated_p_prime = np.dot(P,camera_matrix)\n",
    "    n = calculated_p_prime.shape[0]\n",
    "    rmse = np.linalg.norm(calculated_p_prime - p_prime) / np.sqrt(n)\n",
    "    return rmse"
   ]
  },
  {
   "cell_type": "code",
   "execution_count": 40,
   "metadata": {},
   "outputs": [
    {
     "name": "stdout",
     "output_type": "stream",
     "text": [
      "RMS Error:  0.99383048328\n"
     ]
    }
   ],
   "source": [
    "print(\"RMS Error: \", rms_error(camera_matrix, real_XY, front_image, back_image))\n",
    "#14.5"
   ]
  },
  {
   "cell_type": "markdown",
   "metadata": {},
   "source": [
    "(c) Could you calibrate the matrix with only one checkerboard image? Explain briefly in one\n",
    "or two sentences."
   ]
  },
  {
   "cell_type": "markdown",
   "metadata": {},
   "source": [
    "Yes, we can. One checkerboard image gives us 12 (X,Y,Z) tuples in Scene Coordinate System and each coordinate provides 2 linear equaation. We have more equations than the number of unknown parameters 8. So we can still compute camera parameter.\n"
   ]
  },
  {
   "cell_type": "code",
   "execution_count": 43,
   "metadata": {
    "collapsed": true
   },
   "outputs": [],
   "source": [
    "from utils import mat2euler\n",
    "import math"
   ]
  },
  {
   "cell_type": "code",
   "execution_count": 64,
   "metadata": {},
   "outputs": [
    {
     "name": "stdout",
     "output_type": "stream",
     "text": [
      "[  7.66000000e+02   1.78200000e+03  -3.77021600e+06]\n"
     ]
    }
   ],
   "source": [
    "points = np.array([[674,1826],[2456,1060],[1094,1340],[1774,1086]])\n",
    "p1, q1, p2, q2 = points[0][:], points[1][:], points[2][:], points[3][:] \n",
    "p1_h, q1_h, p2_h, q2_h = np.hstack((p1, np.ones(1))), np.hstack((q1, np.ones(1))), np.hstack((p2, np.ones(1))), np.hstack((q2, np.ones(1)))\n",
    "print(np.cross(p1_h, q1_h))"
   ]
  },
  {
   "cell_type": "code",
   "execution_count": 71,
   "metadata": {
    "collapsed": true
   },
   "outputs": [],
   "source": [
    "'''\n",
    "COMPUTE_VANISHING_POINTS\n",
    "Arguments:\n",
    "    points - a list of all the points where each row is (x, y). Generally,\n",
    "            it will contain four points: two for each parallel line.\n",
    "            You can use any convention you'd like, but our solution uses the\n",
    "            first two rows as points on the same line and the last\n",
    "            two rows as points on the same line.\n",
    "Returns:\n",
    "    vanishing_point - the pixel location of the vanishing point\n",
    "'''\n",
    "def compute_vanishing_point(points):\n",
    "    # reference http://homepages.inf.ed.ac.uk/rbf/CVonline/LOCAL_COPIES/BEARDSLEY/node2.html\n",
    "    p1, q1, p2, q2 = points[0][:], points[1][:], points[2][:], points[3][:] \n",
    "    p1_h, q1_h, p2_h, q2_h = np.hstack((p1, np.ones(1))), np.hstack((q1, np.ones(1))), np.hstack((p2, np.ones(1))), np.hstack((q2, np.ones(1)))\n",
    "    vanishing_point_h = np.cross( np.cross(p1_h, q1_h), np.cross(p2_h, q2_h) )\n",
    "    vanishing_point = np.array([vanishing_point_h[0]/vanishing_point_h[2], vanishing_point_h[1]/vanishing_point_h[2]])\n",
    "    return vanishing_point"
   ]
  },
  {
   "cell_type": "code",
   "execution_count": 192,
   "metadata": {},
   "outputs": [
    {
     "name": "stdout",
     "output_type": "stream",
     "text": [
      "Intrinsic Matrix:\n",
      " [[  3.00391115e+03   3.10504426e+02   3.17001926e-01]\n",
      " [  0.00000000e+00   3.06139944e+03   3.61844714e-01]\n",
      " [  0.00000000e+00   0.00000000e+00   1.00000000e+00]]\n"
     ]
    }
   ],
   "source": []
  },
  {
   "cell_type": "code",
   "execution_count": 208,
   "metadata": {},
   "outputs": [],
   "source": [
    "    # Part A: Compute vanishing points\n",
    "    v1 = compute_vanishing_point(np.array([[674,1826],[2456,1060],[1094,1340],[1774,1086]]))\n",
    "    v2 = compute_vanishing_point(np.array([[674,1826],[126,1056],[2456,1060],[1940,866]]))\n",
    "    v3 = compute_vanishing_point(np.array([[1094,1340],[1080,598],[1774,1086],[1840,478]]))\n",
    "\n",
    "    v1b = compute_vanishing_point(np.array([[314,1912],[2060,1040],[750,1378],[1438,1094]]))\n",
    "    v2b = compute_vanishing_point(np.array([[314,1912],[36,1578],[2060,1040],[1598,882]]))\n",
    "    v3b = compute_vanishing_point(np.array([[750,1378],[714,614],[1438,1094],[1474,494]]))"
   ]
  },
  {
   "cell_type": "code",
   "execution_count": 194,
   "metadata": {},
   "outputs": [
    {
     "name": "stdout",
     "output_type": "stream",
     "text": [
      "[ 6517.22217664  -685.73298951] [-721.31652738 -134.57249285] [ 1190.60886508  6460.269849  ] [ 4400.30302099  -128.81113076] [-1395.37360487  -141.70785621] [ 1045.14369501  7641.60508309]\n"
     ]
    }
   ],
   "source": []
  },
  {
   "cell_type": "code",
   "execution_count": 98,
   "metadata": {
    "collapsed": true
   },
   "outputs": [],
   "source": [
    "'''\n",
    "COMPUTE_K_FROM_VANISHING_POINTS\n",
    "Arguments:\n",
    "    vanishing_points - a list of vanishing points\n",
    "\n",
    "Returns:\n",
    "    K - the intrinsic camera matrix (3x3 matrix)\n",
    "'''\n",
    "def compute_K_from_vanishing_points(vanishing_points):\n",
    "    vanishing_pairs = [[vanishing_points[0], vanishing_points[1]], [vanishing_points[1], vanishing_points[2]], [vanishing_points[2], vanishing_points[0]]]\n",
    "    vanishing_constraints = []\n",
    "    for pair in vanishing_pairs:\n",
    "        u, v = pair[0], pair[1]\n",
    "        vanishing_constraints.append([u[0]*v[0]+u[1]*v[1], u[0]+v[0], u[1]+v[1]])\n",
    "    vanishing_constraints =np.array(vanishing_constraints)\n",
    "    product= np.full((3, 1), -1)\n",
    "    scaled_w = np.linalg.lstsq(vanishing_constraints, product)[0]\n",
    "    matrix_w= np.array([[np.asscalar(scaled_w[0]), 0, np.asscalar(scaled_w[1])], [0, np.asscalar(scaled_w[0]), np.asscalar(scaled_w[2])], [np.asscalar(scaled_w[1]), np.asscalar(scaled_w[2]), 1]]) \n",
    "    matrix_w_inversed_transposed = np.linalg.inv(matrix_w).T\n",
    "    K = np.linalg.cholesky(matrix_w_inversed_transposed)\n",
    "    return K.T"
   ]
  },
  {
   "cell_type": "code",
   "execution_count": 99,
   "metadata": {
    "scrolled": true
   },
   "outputs": [
    {
     "name": "stdout",
     "output_type": "stream",
     "text": [
      "Intrinsic Matrix:\n",
      " [[  3.00391115e+03   3.10504426e+02   3.17001926e-01]\n",
      " [  0.00000000e+00   3.06139944e+03   3.61844714e-01]\n",
      " [  0.00000000e+00   0.00000000e+00   1.00000000e+00]]\n",
      "\n",
      "Actual Matrix:\n",
      " [[  2.44800000e+03   0.00000000e+00   1.25300000e+03]\n",
      " [  0.00000000e+00   2.43800000e+03   9.86000000e+02]\n",
      " [  0.00000000e+00   0.00000000e+00   1.00000000e+00]]\n"
     ]
    }
   ],
   "source": [
    "# Part B: Compute the camera matrix\n",
    "vanishing_points = [v1, v2, v3]\n",
    "print(\"Intrinsic Matrix:\\n\",compute_K_from_vanishing_points(vanishing_points))\n",
    "\n",
    "K_actual = np.array([[2448.0, 0, 1253.0],[0, 2438.0, 986.0],[0,0,1.0]])\n",
    "print()\n",
    "print(\"Actual Matrix:\\n\", K_actual)"
   ]
  },
  {
   "cell_type": "markdown",
   "metadata": {},
   "source": [
    "3(c) Is it possible to compute the camera intrinsic matrix for any set of vanishing points? Similarly, is three vanishing points the minimum required to compute the intrinsic camera matrix? Justify your answer"
   ]
  },
  {
   "cell_type": "markdown",
   "metadata": {},
   "source": [
    "No, if the two vanishing lines associated with the vanishing points are parallel, then the $cos (\\theta)$ will be 0 and can not be used to calculate the $w$ and $K$.\n",
    "Yes, three vanishing points the minimum required to compute the intrinsic camera matrix, since there are three degree of freedom in terms of $w_1, w_2, w_3$ which needs at least three constraints to solve it.\n"
   ]
  },
  {
   "cell_type": "markdown",
   "metadata": {},
   "source": [
    "3(d) The method used to obtain vanishing points is approximate and prone to noise. Discuss approaches to refine this process. "
   ]
  },
  {
   "cell_type": "markdown",
   "metadata": {},
   "source": [
    "Now we only use two points in each of two lines to identify two parallel lines. However, for each line, we should consider using more than two points to help denoise the line representation so that the vanishing points obtained from these two lines can be calculated more accurately."
   ]
  },
  {
   "cell_type": "code",
   "execution_count": 265,
   "metadata": {
    "collapsed": true
   },
   "outputs": [],
   "source": [
    "'''\n",
    "COMPUTE_ANGLE_BETWEEN_PLANES\n",
    "Arguments:\n",
    "    vanishing_pair1 - a list of a pair of vanishing points computed from lines within the same plane\n",
    "    vanishing_pair2 - a list of another pair of vanishing points from a different plane than vanishing_pair1\n",
    "    K - the camera matrix used to take both images\n",
    "\n",
    "Returns:\n",
    "    angle - the angle in degrees between the planes which the vanishing point pair comes from\n",
    "'''\n",
    "def compute_angle_between_planes(vanishing_pair1, vanishing_pair2, K):\n",
    "    w_star  = np.dot(K, K.T)\n",
    "    p1 = np.hstack((vanishing_pair1[0][:], 1))\n",
    "    p2 = np.hstack((vanishing_pair1[1][:], 1))\n",
    "    l1 = np.cross(p1, p2)\n",
    "    q1 = np.hstack((vanishing_pair2[0], 1))\n",
    "    q2 = np.hstack((vanishing_pair2[1], 1))\n",
    "    l2 = np.cross(q1, q2)\n",
    "    cosine = np.dot(np.dot(l1.T, w_star), l2) / np.sqrt(np.dot(np.dot(l1.T, w_star), l1)) / np.sqrt(np.dot(np.dot(l2.T, w_star), l2))\n",
    "    angle = np.arccos(cosine)\n",
    "    return angle\n"
   ]
  },
  {
   "cell_type": "code",
   "execution_count": 266,
   "metadata": {},
   "outputs": [
    {
     "name": "stdout",
     "output_type": "stream",
     "text": [
      "\n",
      "Angle between floor and box: 1.57127387054\n"
     ]
    }
   ],
   "source": [
    "# Part D: Estimate the angle between the box and floor\n",
    "floor_vanishing1 = v1\n",
    "floor_vanishing2 = v2\n",
    "box_vanishing1 = v3\n",
    "box_vanishing2 = compute_vanishing_point(np.array([[1094,1340],[1774,1086],[1080,598],[1840,478]]))\n",
    "angle = compute_angle_between_planes([floor_vanishing1, floor_vanishing2], [box_vanishing1, box_vanishing2], K_actual)\n",
    "print()\n",
    "print(\"Angle between floor and box:\", angle)"
   ]
  },
  {
   "cell_type": "markdown",
   "metadata": {},
   "source": [
    "The ground plane is orthogonal to the plane-A."
   ]
  },
  {
   "cell_type": "code",
   "execution_count": 229,
   "metadata": {},
   "outputs": [],
   "source": [
    "'''\n",
    "COMPUTE_RATATION_MATRIX_BETWEEN_CAMERAS\n",
    "Arguments:\n",
    "    vanishing_points1 - a list of vanishing points in image 1\n",
    "    vanishing_points2 - a list of vanishing points in image 2\n",
    "    K - the camera matrix used to take both images\n",
    "\n",
    "Returns:\n",
    "    R - the rotation matrix between camera 1 and camera 2\n",
    "'''\n",
    "def compute_rotation_matrix_between_cameras(vanishing_points1, vanishing_points2, K):\n",
    "    vp1 = np.hstack((vanishing_points1, np.ones((3, 1)))).T\n",
    "    vp2 = np.hstack((vanishing_points2, np.ones((3, 1)))).T\n",
    "    #d1 is directions of vanishing points in first image\n",
    "    d1 = np.array(np.linalg.lstsq(K, vp1)[0])\n",
    "    d1_norm = np.linalg.norm(d1, axis =0)\n",
    "    d1 = d1/d1_norm\n",
    "    #d2 directions of vanishing points in second image\n",
    "    d2 = np.array(np.linalg.lstsq(K, vp2)[0])\n",
    "    d2_norm = np.linalg.norm(d2, axis =0)\n",
    "    d2 = d2/d2_norm\n",
    "    R = np.dot(d2, np.linalg.inv(d1))\n",
    "    return R"
   ]
  },
  {
   "cell_type": "code",
   "execution_count": 230,
   "metadata": {},
   "outputs": [
    {
     "name": "stdout",
     "output_type": "stream",
     "text": [
      "\n",
      "Rotation between two cameras:\n",
      " [[ 0.96154157  0.04924778 -0.15783349]\n",
      " [-0.01044314  1.00703585  0.04571333]\n",
      " [ 0.18940319 -0.06891607  1.00470583]]\n",
      "Angle around z-axis (pointing out of camera): -2.931986 degrees\n",
      "Angle around y-axis (pointing vertically): -8.918793 degrees\n",
      "Angle around x-axis (pointing horizontally): -2.605117 degrees\n"
     ]
    }
   ],
   "source": [
    "# Part E: Compute the rotation matrix between the two cameras\n",
    "rotation_matrix = compute_rotation_matrix_between_cameras(np.array([v1, v2, v3]), np.array([v1b, v2b, v3b]), K_actual)\n",
    "print()\n",
    "print(\"Rotation between two cameras:\\n\", rotation_matrix)\n",
    "z,y,x = mat2euler(rotation_matrix)\n",
    "print\n",
    "print(\"Angle around z-axis (pointing out of camera): %f degrees\" % (z * 180 / math.pi))\n",
    "print(\"Angle around y-axis (pointing vertically): %f degrees\" % (y * 180 / math.pi))\n",
    "print(\"Angle around x-axis (pointing horizontally): %f degrees\" % (x * 180 / math.pi))\n"
   ]
  },
  {
   "cell_type": "code",
   "execution_count": 173,
   "metadata": {},
   "outputs": [
    {
     "ename": "NameError",
     "evalue": "name 'vanishing_points1' is not defined",
     "output_type": "error",
     "traceback": [
      "\u001b[0;31m---------------------------------------------------------------------------\u001b[0m",
      "\u001b[0;31mNameError\u001b[0m                                 Traceback (most recent call last)",
      "\u001b[0;32m<ipython-input-173-28010a17e3c3>\u001b[0m in \u001b[0;36m<module>\u001b[0;34m()\u001b[0m\n\u001b[0;32m----> 1\u001b[0;31m \u001b[0mvanishing_points1\u001b[0m\u001b[0;34m\u001b[0m\u001b[0m\n\u001b[0m",
      "\u001b[0;31mNameError\u001b[0m: name 'vanishing_points1' is not defined"
     ]
    }
   ],
   "source": []
  },
  {
   "cell_type": "code",
   "execution_count": 174,
   "metadata": {},
   "outputs": [],
   "source": []
  },
  {
   "cell_type": "code",
   "execution_count": 185,
   "metadata": {},
   "outputs": [
    {
     "data": {
      "text/plain": [
       "array([[  1.24927995e+00,  -1.45480401e-01,   4.77741506e-01],\n",
       "       [ -9.74498061e-02,   8.77736616e-01,  -1.59053014e-01],\n",
       "       [  1.04762401e-16,   1.11868678e-16,   1.00000000e+00]])"
      ]
     },
     "execution_count": 185,
     "metadata": {},
     "output_type": "execute_result"
    }
   ],
   "source": []
  },
  {
   "cell_type": "code",
   "execution_count": 177,
   "metadata": {},
   "outputs": [
    {
     "data": {
      "text/plain": [
       "array([[ 1.],\n",
       "       [ 1.],\n",
       "       [ 1.]])"
      ]
     },
     "execution_count": 177,
     "metadata": {},
     "output_type": "execute_result"
    }
   ],
   "source": []
  },
  {
   "cell_type": "code",
   "execution_count": null,
   "metadata": {},
   "outputs": [],
   "source": []
  },
  {
   "cell_type": "code",
   "execution_count": null,
   "metadata": {
    "collapsed": true
   },
   "outputs": [],
   "source": []
  }
 ],
 "metadata": {
  "kernelspec": {
   "display_name": "Python 3",
   "language": "python",
   "name": "python3"
  },
  "language_info": {
   "codemirror_mode": {
    "name": "ipython",
    "version": 3
   },
   "file_extension": ".py",
   "mimetype": "text/x-python",
   "name": "python",
   "nbconvert_exporter": "python",
   "pygments_lexer": "ipython3",
   "version": "3.6.1"
  }
 },
 "nbformat": 4,
 "nbformat_minor": 2
}
